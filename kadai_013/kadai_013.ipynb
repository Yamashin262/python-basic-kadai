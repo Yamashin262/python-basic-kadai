{
  "nbformat": 4,
  "nbformat_minor": 0,
  "metadata": {
    "colab": {
      "provenance": []
    },
    "kernelspec": {
      "name": "python3",
      "display_name": "Python 3"
    },
    "language_info": {
      "name": "python"
    }
  },
  "cells": [
    {
      "cell_type": "code",
      "execution_count": 11,
      "metadata": {
        "colab": {
          "base_uri": "https://localhost:8080/"
        },
        "id": "CrxNVefdvmTs",
        "outputId": "b82c00f5-7b4f-479c-e8fa-3d84bd8c446c"
      },
      "outputs": [
        {
          "output_type": "stream",
          "name": "stdout",
          "text": [
            "1100.0円\n"
          ]
        }
      ],
      "source": [
        "# 消費税10%を適用して合計金額を計算\n",
        "def total_price(price, tax_rate):\n",
        "    tax_amount = price * tax_rate / 100\n",
        "    total = price + tax_amount\n",
        "    return f\"{total}円\"\n",
        "\n",
        "# 関数を呼び出し、引数として購入金額と消費税を渡す\n",
        "print(total_price(1000, 10))"
      ]
    }
  ]
}