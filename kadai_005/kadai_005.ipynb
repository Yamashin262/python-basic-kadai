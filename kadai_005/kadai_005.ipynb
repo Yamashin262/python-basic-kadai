{
  "nbformat": 4,
  "nbformat_minor": 0,
  "metadata": {
    "colab": {
      "provenance": []
    },
    "kernelspec": {
      "name": "python3",
      "display_name": "Python 3"
    },
    "language_info": {
      "name": "python"
    }
  },
  "cells": [
    {
      "cell_type": "code",
      "execution_count": 2,
      "metadata": {
        "colab": {
          "base_uri": "https://localhost:8080/"
        },
        "id": "cO_CZ4Ph6FW6",
        "outputId": "09db73df-94ab-4eac-c415-5420b5cd9330"
      },
      "outputs": [
        {
          "output_type": "stream",
          "name": "stdout",
          "text": [
            "75.0㎠\n"
          ]
        }
      ],
      "source": [
        "top_saide = 10\n",
        "bottom_saide = 20\n",
        "height = 5\n",
        "\n",
        "# 台形の面積を計算\n",
        "print(str(((top_saide + bottom_saide) * height) / 2) + \"㎠\" )"
      ]
    }
  ]
}