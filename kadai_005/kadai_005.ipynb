{
  "nbformat": 4,
  "nbformat_minor": 0,
  "metadata": {
    "colab": {
      "provenance": []
    },
    "kernelspec": {
      "name": "python3",
      "display_name": "Python 3"
    },
    "language_info": {
      "name": "python"
    }
  },
  "cells": [
    {
      "cell_type": "code",
      "execution_count": 7,
      "metadata": {
        "colab": {
          "base_uri": "https://localhost:8080/"
        },
        "id": "cO_CZ4Ph6FW6",
        "outputId": "59b3b577-79ba-4ad8-aef5-ccd0b8fce4a0"
      },
      "outputs": [
        {
          "output_type": "stream",
          "name": "stdout",
          "text": [
            "75.0㎠\n"
          ]
        }
      ],
      "source": [
        "top_saide = 10\n",
        "bottom_saide = 20\n",
        "height = 5\n",
        "\n",
        "# 台形の面積 =（上辺＋下辺）× 高さ ÷ 2\n",
        "area = (((top_saide + bottom_saide) * height) / 2)\n",
        "\n",
        "print(str(area) + \"㎠\" )"
      ]
    }
  ]
}