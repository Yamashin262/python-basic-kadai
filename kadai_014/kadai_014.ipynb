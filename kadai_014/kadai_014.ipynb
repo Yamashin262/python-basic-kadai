{
  "nbformat": 4,
  "nbformat_minor": 0,
  "metadata": {
    "colab": {
      "provenance": []
    },
    "kernelspec": {
      "name": "python3",
      "display_name": "Python 3"
    },
    "language_info": {
      "name": "python"
    }
  },
  "cells": [
    {
      "cell_type": "code",
      "execution_count": 2,
      "metadata": {
        "colab": {
          "base_uri": "https://localhost:8080/"
        },
        "id": "qywd5Y58gKqK",
        "outputId": "d679d921-a9ae-4324-9f0b-214726f62b0b"
      },
      "outputs": [
        {
          "output_type": "stream",
          "name": "stdout",
          "text": [
            "330.0\n"
          ]
        }
      ],
      "source": [
        "# グローバル変数を定義\n",
        "tax = 1.1\n",
        "\n",
        "def total():\n",
        "    # ローカル変数を定義する\n",
        "    price1 = 100\n",
        "    price2 = 200\n",
        "    # ローカルスコープの範囲内でローカル変数を使う\n",
        "    return price1 + price2\n",
        "\n",
        "# グローバルスコープの範囲内でグローバル変数を使う\n",
        "print(total() * tax)"
      ]
    }
  ]
}