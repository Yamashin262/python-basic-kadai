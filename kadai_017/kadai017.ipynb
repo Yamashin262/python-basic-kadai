{
  "nbformat": 4,
  "nbformat_minor": 0,
  "metadata": {
    "colab": {
      "provenance": []
    },
    "kernelspec": {
      "name": "python3",
      "display_name": "Python 3"
    },
    "language_info": {
      "name": "python"
    }
  },
  "cells": [
    {
      "cell_type": "code",
      "execution_count": 2,
      "metadata": {
        "colab": {
          "base_uri": "https://localhost:8080/"
        },
        "id": "-4rvZDzYLlel",
        "outputId": "efc3ae5d-4aa4-47c6-c9c2-7a0c5a4e28bc"
      },
      "outputs": [
        {
          "output_type": "stream",
          "name": "stdout",
          "text": [
            "太郎さんは大人です。\n",
            "花子さんは大人ではありません。\n",
            "次郎さんは大人ではありません。\n"
          ]
        }
      ],
      "source": [
        "# Humanクラスを作成\n",
        "class Human:\n",
        "  def __init__(self, name, age):\n",
        "    self.name = name\n",
        "    self.age = age\n",
        "  # 大人かどうかの判定\n",
        "  def check_adult(self):\n",
        "    if self.age >= 20:\n",
        "      print(f\"{self.name}さんは大人です。\")\n",
        "    else:\n",
        "      print(f\"{self.name}さんは大人ではありません。\")\n",
        "\n",
        "# Humanクラスのインスタンスを生成\n",
        "human_1 = Human(\"太郎\", 25)\n",
        "human_2 = Human(\"花子\", 18)\n",
        "human_3 = Human(\"次郎\", 13)\n",
        "\n",
        "# Humanクラスのインスタンスをリストに追加\n",
        "humans = [human_1, human_2, human_3]\n",
        "\n",
        "# リストの要素数分だけcheck_adultメソッドを呼び出す\n",
        "for human in humans:\n",
        "  human.check_adult()\n"
      ]
    }
  ]
}