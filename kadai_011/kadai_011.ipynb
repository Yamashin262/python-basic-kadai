{
  "nbformat": 4,
  "nbformat_minor": 0,
  "metadata": {
    "colab": {
      "provenance": []
    },
    "kernelspec": {
      "name": "python3",
      "display_name": "Python 3"
    },
    "language_info": {
      "name": "python"
    }
  },
  "cells": [
    {
      "cell_type": "code",
      "execution_count": 19,
      "metadata": {
        "colab": {
          "base_uri": "https://localhost:8080/"
        },
        "id": "U6qOvxraj3yw",
        "outputId": "9d95ed3d-05f2-4b7b-e7a8-a0b71c70edeb"
      },
      "outputs": [
        {
          "output_type": "stream",
          "name": "stdout",
          "text": [
            "水\n",
            "金\n",
            "地\n",
            "火\n",
            "木\n",
            "土\n",
            "天\n",
            "海\n",
            "冥\n",
            "水\n",
            "金\n",
            "地\n",
            "火\n",
            "木\n",
            "土\n",
            "天\n",
            "海\n",
            "冥\n"
          ]
        }
      ],
      "source": [
        "arrays = [\"水\",\"金\",\"地\",\"火\",\"木\",\"土\",\"天\",\"海\",\"冥\"]\n",
        "\n",
        "# for文で配列arrayの要素を1つずつ順番に出力する\n",
        "for array in arrays:\n",
        "    print(array)\n",
        "\n",
        "# while文で配列arrayの要素を1つずつ順番に出力する\n",
        "array = iter(arrays)\n",
        "while True:\n",
        "  try:\n",
        "    print(next(array))\n",
        "  except StopIteration:\n",
        "    break"
      ]
    }
  ]
}