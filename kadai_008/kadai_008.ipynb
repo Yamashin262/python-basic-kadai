{
  "nbformat": 4,
  "nbformat_minor": 0,
  "metadata": {
    "colab": {
      "provenance": []
    },
    "kernelspec": {
      "name": "python3",
      "display_name": "Python 3"
    },
    "language_info": {
      "name": "python"
    }
  },
  "cells": [
    {
      "cell_type": "code",
      "execution_count": 4,
      "metadata": {
        "colab": {
          "base_uri": "https://localhost:8080/"
        },
        "id": "Lq-BcdhoZGlC",
        "outputId": "066cb5cb-cedc-435e-c7a9-74222cf0260a"
      },
      "outputs": [
        {
          "output_type": "stream",
          "name": "stdout",
          "text": [
            "Fizz\n"
          ]
        }
      ],
      "source": [
        "num = 9\n",
        "\n",
        "if num % 15 == 0:\n",
        "  print(\"FizzBuzz\")\n",
        "elif num % 3 == 0:\n",
        "  print(\"Fizz\")\n",
        "elif num % 5 == 0:\n",
        "  print(\"Buzz\")\n",
        "else:\n",
        "  print(num)"
      ]
    }
  ]
}