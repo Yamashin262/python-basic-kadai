{
  "nbformat": 4,
  "nbformat_minor": 0,
  "metadata": {
    "colab": {
      "provenance": []
    },
    "kernelspec": {
      "name": "python3",
      "display_name": "Python 3"
    },
    "language_info": {
      "name": "python"
    }
  },
  "cells": [
    {
      "cell_type": "code",
      "execution_count": 3,
      "metadata": {
        "colab": {
          "base_uri": "https://localhost:8080/"
        },
        "id": "yTp2gehCB_y7",
        "outputId": "c3a100be-ca94-4ce9-b47f-2c27d766390b"
      },
      "outputs": [
        {
          "output_type": "stream",
          "name": "stdout",
          "text": [
            "侍太郎\n",
            "36\n"
          ]
        }
      ],
      "source": [
        "class Human:\n",
        "  # コンストラクタを定義する\n",
        "  def __init__(self, name, age):\n",
        "    self.name = name\n",
        "    self.age = age\n",
        "  # メソッドを定義する\n",
        "  def printinfo(self, name, age):\n",
        "   self.name = name\n",
        "   self.age = age\n",
        "  def show_printinfo(self):\n",
        "    print(self.name)\n",
        "    print(self.age)\n",
        "\n",
        "# インスタンス化する\n",
        "printinfo = Human(\"侍太郎\", 36)\n",
        "\n",
        "# 属性にアクセスして値を出力\n",
        "print(printinfo.name)\n",
        "print(printinfo.age)"
      ]
    }
  ]
}